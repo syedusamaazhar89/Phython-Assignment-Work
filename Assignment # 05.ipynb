{
 "cells": [
  {
   "cell_type": "code",
   "execution_count": 18,
   "metadata": {},
   "outputs": [
    {
     "name": "stdout",
     "output_type": "stream",
     "text": [
      "Enter a number for factiorial = 5\n",
      "The factorial of 5 is =  120\n"
     ]
    }
   ],
   "source": [
    "def factorial(f):\n",
    "    if f == 0:\n",
    "        return 1\n",
    "    else:\n",
    "        return f * factorial(f-1)\n",
    "f=int(input(\"Enter a number for factiorial = \"))\n",
    "print(\"The factorial of\", f, \"is = \", factorial(f))"
   ]
  },
  {
   "cell_type": "code",
   "execution_count": 20,
   "metadata": {},
   "outputs": [
    {
     "name": "stdout",
     "output_type": "stream",
     "text": [
      "String Given by User : Syed Usama Azhar is enrolled in Python Programming\n",
      "Total No of Upper Case Character :  5\n",
      "Total No of Lower Case Character :  38\n"
     ]
    }
   ],
   "source": [
    "def stringVerify(sv):\n",
    "    dic = {\"UC\":0, \"LC\":0}\n",
    "    \n",
    "    for x in sv:\n",
    "        if x.isupper():\n",
    "            dic[\"UC\"]+=1\n",
    "        elif x.islower():\n",
    "            dic[\"LC\"]+=1\n",
    "        else:\n",
    "            pass\n",
    "    print(\"String Given by User :\", sv)\n",
    "    print(\"Total No of Upper Case Character : \" , dic[\"UC\"])\n",
    "    print(\"Total No of Lower Case Character : \" , dic[\"LC\"])\n",
    "        \n",
    "stringVerify(\"Syed Usama Azhar is enrolled in Python Programming\")"
   ]
  },
  {
   "cell_type": "code",
   "execution_count": 23,
   "metadata": {},
   "outputs": [
    {
     "name": "stdout",
     "output_type": "stream",
     "text": [
      "Even Numbers in the List :  [100, 102, 104, 106, 108]\n"
     ]
    }
   ],
   "source": [
    "def EvenNum(en):\n",
    "    elist = []\n",
    "    for x in en:\n",
    "        if x % 2 == 0:\n",
    "            elist.append(x)\n",
    "    return elist\n",
    "print(\"Even Numbers in the List : \", EvenNum([99, 100, 101, 102, 103, 104, 105, 106, 107, 108]))"
   ]
  },
  {
   "cell_type": "code",
   "execution_count": 14,
   "metadata": {},
   "outputs": [
    {
     "name": "stdout",
     "output_type": "stream",
     "text": [
      "True\n"
     ]
    }
   ],
   "source": [
    "def Palindrome(x):\n",
    "    a = 0\n",
    "    b = len(x) - 1\n",
    "\n",
    "    while b >= a:\n",
    "        if not x[a] == x[b]:\n",
    "            return False\n",
    "        a += 1\n",
    "        b -= 1\n",
    "    return True\n",
    "print(Palindrome(\"MADAM\")) "
   ]
  },
  {
   "cell_type": "code",
   "execution_count": 25,
   "metadata": {},
   "outputs": [
    {
     "name": "stdout",
     "output_type": "stream",
     "text": [
      "True\n"
     ]
    }
   ],
   "source": [
    "def testprime(x):\n",
    "    if (x==1):\n",
    "        return False\n",
    "    elif (x==2):\n",
    "        return True;\n",
    "    else:\n",
    "        for z in range(2,x):\n",
    "            if(x % z==0):\n",
    "                return False\n",
    "        return True             \n",
    "print(testprime(5))"
   ]
  },
  {
   "cell_type": "code",
   "execution_count": 83,
   "metadata": {},
   "outputs": [
    {
     "name": "stdout",
     "output_type": "stream",
     "text": [
      "-----------------\n",
      "   Bought List \n",
      "-----------------\n",
      "Oil: 5 Kgs\n",
      "Sugar: 5 Kgs\n",
      "Rice: 3 Kgs\n",
      "Toothpaste: Colgate\n",
      "Soup: Lux\n",
      "Ghee: 2 Kgs\n"
     ]
    }
   ],
   "source": [
    "def Shoppinglist(**params):\n",
    "    print(\"-----------------\\n   Bought List \\n-----------------\")\n",
    "    for key,value in params.items():\n",
    "        print(key + \": \" +value)\n",
    "Shoppinglist(Oil=\"5 Kgs\",Sugar=\"5 Kgs\",Rice=\"3 Kgs\",Toothpaste=\"Colgate\",Soup=\"Lux\", Ghee=\"2 Kgs\")    "
   ]
  }
 ],
 "metadata": {
  "kernelspec": {
   "display_name": "Python 3",
   "language": "python",
   "name": "python3"
  },
  "language_info": {
   "codemirror_mode": {
    "name": "ipython",
    "version": 3
   },
   "file_extension": ".py",
   "mimetype": "text/x-python",
   "name": "python",
   "nbconvert_exporter": "python",
   "pygments_lexer": "ipython3",
   "version": "3.7.4"
  }
 },
 "nbformat": 4,
 "nbformat_minor": 2
}
