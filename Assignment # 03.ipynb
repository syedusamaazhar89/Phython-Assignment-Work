{
 "cells": [
  {
   "cell_type": "code",
   "execution_count": 158,
   "metadata": {},
   "outputs": [
    {
     "name": "stdout",
     "output_type": "stream",
     "text": [
      "\tCALCULATOR\n",
      "Enter Your First Value = 12\n",
      "Enter Your Operator = ^\n",
      "Enter Your Second Value = 2\n",
      "144 Answer\n"
     ]
    }
   ],
   "source": [
    "print(\"\\tCALCULATOR\")\n",
    "val1 =int(input('Enter Your First Value = '))\n",
    "operator = input('Enter Your Operator = ')\n",
    "val2 =int(input('Enter Your Second Value = '))\n",
    "\n",
    "if operator == '+' :\n",
    "    val = val1 + val2\n",
    "    print(val,'Answer')\n",
    "elif operator == '-' :\n",
    "    val = val1 - val2\n",
    "    print(val,'Answer')\n",
    "elif operator == '*' :\n",
    "    val = val1 * val2\n",
    "    print(val,'Answer')\n",
    "elif operator == '/' :\n",
    "    val = val1 // val2\n",
    "    print(val,'Answer')\n",
    "elif operator == '^' :\n",
    "    val = val1 ** val2\n",
    "    print(val,'Answer')    \n",
    "else :\n",
    "    print('Error')"
   ]
  },
  {
   "cell_type": "code",
   "execution_count": 94,
   "metadata": {},
   "outputs": [
    {
     "name": "stdout",
     "output_type": "stream",
     "text": [
      "73  = Numeric Values in the list \n"
     ]
    }
   ],
   "source": [
    "a = [ \"Hassan\", \"Usama\", \"Khizer\", 73, \"Zeeshan\", \"Azhar\"] \n",
    "\n",
    "for i in a: \n",
    "    if type(i) == int or type(i) == float: \n",
    "     print (i,\" = Numeric Values in the list \")\n",
    "     break\n",
    "else:\n",
    "  print (\"Element Not Exists\")"
   ]
  },
  {
   "cell_type": "code",
   "execution_count": 115,
   "metadata": {},
   "outputs": [
    {
     "name": "stdout",
     "output_type": "stream",
     "text": [
      "{'Name': 'Syed Usama Azhar', 'Father Name': 'Syed Azhar Mehmood', 'Nationality': 'Pakistani'}\n"
     ]
    }
   ],
   "source": [
    "a = {\n",
    "    \"Name\" : \"Syed Usama Azhar\", \n",
    "    \"Father Name\" : \"Syed Azhar Mehmood\"\n",
    "}\n",
    "a[\"Nationality\"] = \"Pakistani\"\n",
    "print(a)"
   ]
  },
  {
   "cell_type": "code",
   "execution_count": 86,
   "metadata": {},
   "outputs": [
    {
     "name": "stdout",
     "output_type": "stream",
     "text": [
      "Total =  1220\n"
     ]
    }
   ],
   "source": [
    "x = 0\n",
    "a = {\n",
    "    \"Num1\" : 222,\n",
    "    \"Num2\" : 555,\n",
    "    \"Num3\" : 443,\n",
    "    \"Name\" : \"Usama\"\n",
    "}\n",
    "for i in a.values():\n",
    "     if type(i) == int or type(i)== float:\n",
    "         x = x + i\n",
    "print(\"Total = \", x)"
   ]
  },
  {
   "cell_type": "code",
   "execution_count": 108,
   "metadata": {},
   "outputs": [
    {
     "name": "stdout",
     "output_type": "stream",
     "text": [
      "Duplicate Values =  [33, 44, 55]\n"
     ]
    }
   ],
   "source": [
    "a = [ 22, 33, 44, 55, 66, 77, 33, 44, 55 ]\n",
    "dup = []\n",
    "uni = {}\n",
    "for x in a:\n",
    "   if x not in uni:\n",
    "      uni[x] = 1\n",
    "   else:\n",
    "      if uni[x] == 1:\n",
    "         dup.append(x)\n",
    "      uni[x] += 1\n",
    "print(\"Duplicate Values = \",dup)"
   ]
  },
  {
   "cell_type": "code",
   "execution_count": 13,
   "metadata": {},
   "outputs": [
    {
     "name": "stdout",
     "output_type": "stream",
     "text": [
      "2 = This Key is Already Exists in the dictionary\n",
      "7 = This Key is not Exists in the dictionary\n"
     ]
    }
   ],
   "source": [
    "a = {1: 10, 2: 20, 3: 30, 4: 40, 5: 50, 6: 60}\n",
    "def Given_Value(x):\n",
    "  if x in a:\n",
    "      print(x,'= This Key is Already Exists in the dictionary')\n",
    "  else:\n",
    "      print(x,'= This Key is not Exists in the dictionary')\n",
    "Given_Value(2)\n",
    "Given_Value(7)"
   ]
  }
 ],
 "metadata": {
  "kernelspec": {
   "display_name": "Python 3",
   "language": "python",
   "name": "python3"
  },
  "language_info": {
   "codemirror_mode": {
    "name": "ipython",
    "version": 3
   },
   "file_extension": ".py",
   "mimetype": "text/x-python",
   "name": "python",
   "nbconvert_exporter": "python",
   "pygments_lexer": "ipython3",
   "version": "3.7.4"
  }
 },
 "nbformat": 4,
 "nbformat_minor": 2
}
