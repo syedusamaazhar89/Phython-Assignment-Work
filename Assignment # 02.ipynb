{
 "cells": [
  {
   "cell_type": "code",
   "execution_count": 1,
   "metadata": {},
   "outputs": [
    {
     "name": "stdout",
     "output_type": "stream",
     "text": [
      "\t\tYour Marksheet\n",
      "Enter your English Marks out of 75 = 64\n",
      "Enter your Pakistan Studies Marks out of 75 = 52\n",
      "Enter your Chemistry Marks out of 100 = 73\n",
      "Enter your Sindhi Marks out of 75 = 46\n",
      "Enter your Computer Science Marks out of 100 = 77\n",
      "Marks Obtained out of 425 =  312\n",
      "Your Percentage = 73.41176470588235\n",
      "Congratulations! You have secured Grade A\n"
     ]
    }
   ],
   "source": [
    "print(\"\\t\\tYour Marksheet\")\n",
    "English = int(input(\"Enter your English Marks out of 75 = \"))\n",
    "Pakistan_Studies = int(input(\"Enter your Pakistan Studies Marks out of 75 = \"))\n",
    "Chemistry = int(input(\"Enter your Chemistry Marks out of 100 = \"))\n",
    "Sindhi = int(input(\"Enter your Sindhi Marks out of 75 = \"))\n",
    "Computer_Science = int(input(\"Enter your Computer Science Marks out of 100 = \"))\n",
    "\n",
    "Marks_Obtained = English+Pakistan_Studies+Chemistry+Sindhi+Computer_Science\n",
    "Percentage = (Marks_Obtained/425)*100\n",
    "print(\"Marks Obtained out of 425 = \" + \" \" + str(Marks_Obtained))\n",
    "print(\"Your Percentage =\" + \" \" + str(Percentage))\n",
    "if Percentage >= 80 and Percentage <=100:\n",
    " print(\"Congratulations! You have secured Grade A+\")\n",
    "elif Percentage <80 and Percentage >=70:\n",
    " print(\"Congratulations! You have secured Grade A\")\n",
    "elif Percentage <70 and Percentage >=60:\n",
    " print(\"Congratulations! You have secured Grade B\")\n",
    "elif Percentage <60 and Percentage >=50:\n",
    " print(\"Congratulations! You have secured Grade C\")\n",
    "elif Percentage <50 and Percentage >=40:\n",
    " print(\"Congratulations! You have secured Grade D\")\n",
    "elif Percentage <40 and Percentage >=33:\n",
    " print(\"Congratulations! You have secured Grade E\")\n",
    "elif Percentage <33 and Percentage >=0:\n",
    " print(\"You have Failed in Examination\")"
   ]
  },
  {
   "cell_type": "code",
   "execution_count": 5,
   "metadata": {},
   "outputs": [
    {
     "name": "stdout",
     "output_type": "stream",
     "text": [
      "Enter a number = 22\n",
      "It is an Even Number\n"
     ]
    }
   ],
   "source": [
    "num = int(input(\"Enter a number = \"))\n",
    "if num%2 == 0:\n",
    " print(\"It is an Even Number\")\n",
    "else:\n",
    " print(\"It is an Odd Number\")"
   ]
  },
  {
   "cell_type": "code",
   "execution_count": 17,
   "metadata": {},
   "outputs": [
    {
     "name": "stdout",
     "output_type": "stream",
     "text": [
      "The Length of the above List is =  10\n"
     ]
    }
   ],
   "source": [
    "list = [1,2,3,4,5,6,7,8,9,10]\n",
    "print(\"The Length of the above List is = \", len(list))"
   ]
  },
  {
   "cell_type": "code",
   "execution_count": 18,
   "metadata": {},
   "outputs": [
    {
     "name": "stdout",
     "output_type": "stream",
     "text": [
      "The Sum of the above list is =  374\n"
     ]
    }
   ],
   "source": [
    "list = [55,55,55,55,44,77,33]\n",
    "print(\"The Sum of the above list is = \", sum(list))"
   ]
  },
  {
   "cell_type": "code",
   "execution_count": 32,
   "metadata": {},
   "outputs": [
    {
     "name": "stdout",
     "output_type": "stream",
     "text": [
      "The Largest number of above list is =  88\n"
     ]
    }
   ],
   "source": [
    "list = [55,55,55,55,44,88,33]\n",
    "print(\"The Largest number of above list is = \", max(list))"
   ]
  },
  {
   "cell_type": "code",
   "execution_count": 55,
   "metadata": {},
   "outputs": [
    {
     "name": "stdout",
     "output_type": "stream",
     "text": [
      "1\n",
      "1\n",
      "2\n",
      "3\n"
     ]
    }
   ],
   "source": [
    "a = [1, 1, 2, 3, 5, 8, 13, 21, 34, 55, 89]\n",
    "\n",
    "for a in a:\n",
    "    \n",
    " if a < 5:\n",
    "    \n",
    "  print(a)"
   ]
  }
 ],
 "metadata": {
  "kernelspec": {
   "display_name": "Python 3",
   "language": "python",
   "name": "python3"
  },
  "language_info": {
   "codemirror_mode": {
    "name": "ipython",
    "version": 3
   },
   "file_extension": ".py",
   "mimetype": "text/x-python",
   "name": "python",
   "nbconvert_exporter": "python",
   "pygments_lexer": "ipython3",
   "version": "3.7.4"
  }
 },
 "nbformat": 4,
 "nbformat_minor": 2
}
