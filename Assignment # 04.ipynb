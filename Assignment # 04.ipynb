{
 "cells": [
  {
   "cell_type": "code",
   "execution_count": 25,
   "metadata": {},
   "outputs": [
    {
     "name": "stdout",
     "output_type": "stream",
     "text": [
      "{'First_Name': 'Usama', 'Last_Name': 'Azhar', 'Age': 30, 'City': 'Karachi'}\n"
     ]
    }
   ],
   "source": [
    "person ={\n",
    "    \"First_Name\" : \"Usama\",\n",
    "    \"Last_Name\" : \"Azhar\",\n",
    "    \"Age\" : 30,\n",
    "    \"City\" : \"Karachi\"\n",
    "}\n",
    "print(person)"
   ]
  },
  {
   "cell_type": "code",
   "execution_count": 26,
   "metadata": {},
   "outputs": [
    {
     "name": "stdout",
     "output_type": "stream",
     "text": [
      "{'First_Name': 'Usama', 'Last_Name': 'Azhar', 'Age': 30, 'City': 'Karachi', 'Qualification': 'Intermediate'}\n"
     ]
    }
   ],
   "source": [
    "person[\"Qualification\"] = \"Intermediate\"\n",
    "print(person)"
   ]
  },
  {
   "cell_type": "code",
   "execution_count": 27,
   "metadata": {},
   "outputs": [
    {
     "name": "stdout",
     "output_type": "stream",
     "text": [
      "{'First_Name': 'Usama', 'Last_Name': 'Azhar', 'Age': 30, 'City': 'Karachi', 'Qualification': 'Bachelor Of Engineering'}\n"
     ]
    }
   ],
   "source": [
    "person[\"Qualification\"] = \"Bachelor Of Engineering\"\n",
    "print(person)"
   ]
  },
  {
   "cell_type": "code",
   "execution_count": 28,
   "metadata": {},
   "outputs": [
    {
     "name": "stdout",
     "output_type": "stream",
     "text": [
      "{'First_Name': 'Usama', 'Last_Name': 'Azhar', 'Age': 30, 'City': 'Karachi'}\n"
     ]
    }
   ],
   "source": [
    "del person[\"Qualification\"]\n",
    "print(person)"
   ]
  },
  {
   "cell_type": "code",
   "execution_count": 1,
   "metadata": {},
   "outputs": [
    {
     "name": "stdout",
     "output_type": "stream",
     "text": [
      "Karachi is the City of Pakistan\n",
      "\tApprox Population : 22.5 Million\n",
      "\tFact :  Know as The City of Light\n",
      "Lahore is the City of Pakistan\n",
      "\tApprox Population : 12.5 Million\n",
      "\tFact :  Know as The City of Gardens\n",
      "Islamabad is the City of Pakistan\n",
      "\tApprox Population : 11 Million\n",
      "\tFact :  Know as The City of Peace\n"
     ]
    }
   ],
   "source": [
    "Cities = {\n",
    "    \"Karachi\" : {\n",
    "        \"Country\" : \"Pakistan\",\n",
    "        \"Population\" : \"22.5 Million\",\n",
    "        \"Fact\" : \"Know as The City of Light\"\n",
    "    },\n",
    "    \"Lahore\" : {\n",
    "        \"Country\" : \"Pakistan\",\n",
    "        \"Population\" : \"12.5 Million\",\n",
    "        \"Fact\" : \"Know as The City of Gardens\"\n",
    "    },\n",
    "    \"Islamabad\" : {\n",
    "        \"Country\" : \"Pakistan\",\n",
    "        \"Population\" : \"11 Million\",\n",
    "        \"Fact\" : \"Know as The City of Peace\"\n",
    "    }\n",
    "}\n",
    "\n",
    "for City, City_info in Cities.items():\n",
    "    Country = City_info[\"Country\"]\n",
    "    Population = City_info[\"Population\"]\n",
    "    Fact = City_info[\"Fact\"]\n",
    "\n",
    "    print(City + \" is the City of \" + Country)\n",
    "    print(\"\\tApprox Population\" + \" : \" +str(Population))\n",
    "    print(\"\\tFact : \",Fact)"
   ]
  },
  {
   "cell_type": "code",
   "execution_count": null,
   "metadata": {},
   "outputs": [
    {
     "name": "stdout",
     "output_type": "stream",
     "text": [
      "What is your age?\n",
      "Age: 2\n",
      "Don't Need Any Ticket Get in free!\n",
      "What is your age?\n",
      "Age: 12\n",
      "Ticket is $10\n",
      "What is your age?\n",
      "Age: 22\n",
      "Ticket is $15\n"
     ]
    }
   ],
   "source": [
    "ticket = \"What is your age?\"\n",
    "ticket += \"\\nAge: \"\n",
    "\n",
    "while True:\n",
    "    age = input(ticket)\n",
    "    if age == 'Quit':\n",
    "        break\n",
    "    age = int(age)\n",
    "\n",
    "    if age < 3:\n",
    "        print(\"Don't Need Any Ticket Get in free!\")\n",
    "    elif age < 13:\n",
    "        print(\"Ticket is $10\")\n",
    "    else:\n",
    "        print(\"Ticket is $15\")"
   ]
  },
  {
   "cell_type": "code",
   "execution_count": 4,
   "metadata": {},
   "outputs": [
    {
     "name": "stdout",
     "output_type": "stream",
     "text": [
      "One of my favorite book is \n",
      "Alice in Wonder\n"
     ]
    }
   ],
   "source": [
    "def favorite_book(title):\n",
    "    print(\"One of my favorite book is \" + \"\\n\" +title)\n",
    "favorite_book(\"Alice in Wonder\")  "
   ]
  },
  {
   "cell_type": "code",
   "execution_count": 3,
   "metadata": {},
   "outputs": [
    {
     "name": "stdout",
     "output_type": "stream",
     "text": [
      "You have Three attempts to guess the correct number. Give it a shot!\n",
      "\n",
      "Guess a number between 1 and 30: 5\n",
      "too low You Guesses a Wrong No\n",
      "\n",
      "Guess a number between 1 and 30: 10\n",
      "too low You Guesses a Wrong No\n",
      "\n",
      "Guess a number between 1 and 30: 15\n",
      "\n",
      "You are out of tries! The winning number was: 24 \n",
      "\n",
      "Better luck next time!\n"
     ]
    }
   ],
   "source": [
    "import random\n",
    " \n",
    "winning_number = random.randint(1,30)\n",
    " \n",
    "guesses_remaining = 3\n",
    " \n",
    "print(\"You have Three attempts to guess the correct number. Give it a shot!\")\n",
    " \n",
    "keep_playing = \"true\"\n",
    "while keep_playing == \"true\":   \n",
    "    guess = int(input(\"\\nGuess a number between 1 and 30: \"))\n",
    "    guesses_remaining = guesses_remaining - 1\n",
    "    if guess == winning_number:\n",
    "        print (\"Winner! You Guessed the Correct Number\")\n",
    "        keep_playing = \"false\"\n",
    "    elif guesses_remaining == 0:\n",
    "        print (\"\\nYou are out of tries! The winning number was:\",winning_number, \"\\n\\nBetter luck next time!\")\n",
    "        keep_playing = \"false\"\n",
    "    elif guess > winning_number:\n",
    "        print(\"too high\", \"You Guesses a Wrong No\")  \n",
    "    elif guess < winning_number:\n",
    "        print(\"too low\", \"You Guesses a Wrong No\")\n",
    "    elif guesses_remaining == 0:\n",
    "        print (\"\\nYou are out of tries! The winning number was:\",winning_number, \"\\n\\nBetter luck next time!\")\n",
    "        keep_playing = \"false\""
   ]
  }
 ],
 "metadata": {
  "kernelspec": {
   "display_name": "Python 3",
   "language": "python",
   "name": "python3"
  },
  "language_info": {
   "codemirror_mode": {
    "name": "ipython",
    "version": 3
   },
   "file_extension": ".py",
   "mimetype": "text/x-python",
   "name": "python",
   "nbconvert_exporter": "python",
   "pygments_lexer": "ipython3",
   "version": "3.7.4"
  }
 },
 "nbformat": 4,
 "nbformat_minor": 2
}
